{
  "nbformat": 4,
  "nbformat_minor": 0,
  "metadata": {
    "colab": {
      "provenance": [],
      "authorship_tag": "ABX9TyPLU4Unq20DqoZe61z5eLIt",
      "include_colab_link": true
    },
    "kernelspec": {
      "name": "python3",
      "display_name": "Python 3"
    },
    "language_info": {
      "name": "python"
    }
  },
  "cells": [
    {
      "cell_type": "markdown",
      "metadata": {
        "id": "view-in-github",
        "colab_type": "text"
      },
      "source": [
        "<a href=\"https://colab.research.google.com/github/Alapan18/Alapan18/blob/main/pythonlab.ipynb\" target=\"_parent\"><img src=\"https://colab.research.google.com/assets/colab-badge.svg\" alt=\"Open In Colab\"/></a>"
      ]
    },
    {
      "cell_type": "code",
      "execution_count": null,
      "metadata": {
        "id": "Ikzc9JAA6tS1"
      },
      "outputs": [],
      "source": [
        "#find the greatest of the 3 user input numbers\n",
        "\n",
        "x=int(input('enter the value of x '))\n",
        "y=int(input('enter the value of y '))\n",
        "z=int(input('enter the value of z '))\n",
        "\n",
        "if x>y :\n",
        "  if x>z :\n",
        "    print('X is greatest')\n",
        "  else :\n",
        "      print('Z is greatest')\n",
        "else :\n",
        "  if y>z :\n",
        "    print('Y is greatest')\n",
        "  else :\n",
        "    print('Z is greatest')"
      ]
    },
    {
      "cell_type": "code",
      "source": [
        "for x in range (1,11,2 ): #range = 1 - 10\n",
        "while(x<=10) :\n",
        "def abc(x,y):\n",
        "  z=x+y\n",
        "  print (z)\n",
        "abc(100,200)"
      ],
      "metadata": {
        "id": "FuQ3eH907uhG"
      },
      "execution_count": null,
      "outputs": []
    },
    {
      "cell_type": "code",
      "source": [
        "#write a python programme to find the prime number within a range using function\n",
        "\n",
        "def prime (x,y) :\n",
        "  for i in range (x, y+1) :\n",
        "    c=0\n",
        "    for j in range (1, i+1) :\n",
        "      if i%j==0 :\n",
        "        c+=1\n",
        "    if c==2 :\n",
        "      print( j ,end='  ')\n",
        "\n",
        "x=int(input('enter the lower level '))\n",
        "y=int(input('enter the higher level'))\n",
        "prime(x,y)\n",
        "\n"
      ],
      "metadata": {
        "id": "90UTNtScBFJS"
      },
      "execution_count": null,
      "outputs": []
    },
    {
      "cell_type": "code",
      "source": [
        "x=[ 5,9,5,6,9,2,1,1,1] # remove duplicate elwements and sort\n",
        "\n",
        "x.sort()\n",
        "for j in x:\n",
        "  y=x.count(j)\n",
        "  if y>1:\n",
        "    for i in range (1,y):\n",
        "      x.remove(j)\n",
        "print(x)\n",
        "\n",
        "\n",
        "y=[]\n",
        "for j in x:\n",
        "  if j not in y:\n",
        "    y.append(j)\n",
        "print(y)"
      ],
      "metadata": {
        "id": "uCbQI63oD6st",
        "colab": {
          "base_uri": "https://localhost:8080/"
        },
        "outputId": "2dd71793-4f16-4f0d-9e97-d99c005a582c"
      },
      "execution_count": 5,
      "outputs": [
        {
          "output_type": "stream",
          "name": "stdout",
          "text": [
            "[1, 2, 5, 6, 9]\n",
            "[1, 2, 5, 6, 9]\n"
          ]
        }
      ]
    },
    {
      "cell_type": "code",
      "source": [
        "# 9830806101 kaushik majumder sir number\n",
        "x=[[4,3,5],'ab', 'cd', [7,8,9,2], [6.6,3.5,9.4]] # find the sum of thge nested list\n",
        "y=[sum(j) for j in x if type(j) is list]\n",
        "print(y)\n",
        "\n",
        "y=[]\n",
        "for j in x:\n",
        "  if type (j) is list:\n",
        "    y.append(sum(j))\n",
        "print(y)"
      ],
      "metadata": {
        "id": "g_tYrnlpL2uL",
        "colab": {
          "base_uri": "https://localhost:8080/"
        },
        "outputId": "6404804c-a884-4e9a-8e9a-80c2fbe1045c"
      },
      "execution_count": 6,
      "outputs": [
        {
          "output_type": "stream",
          "name": "stdout",
          "text": [
            "[12, 26, 19.5]\n",
            "[12, 26, 19.5]\n"
          ]
        }
      ]
    },
    {
      "cell_type": "code",
      "source": [
        "# write a python propgram to convert list items into strings\n",
        "y=[\"techno\", \"international\", \"newtown\", 1 ,2 ]\n",
        "\n",
        "def l2s(l):\n",
        "  strg =\"\"\n",
        "  for  element in l:\n",
        "    element=str(element)\n",
        "    strg= strg + element\n",
        "  return strg\n",
        "\n",
        "print(l2s(y))\n",
        "\n"
      ],
      "metadata": {
        "id": "mh4yNmF6OIhX",
        "colab": {
          "base_uri": "https://localhost:8080/"
        },
        "outputId": "8923667b-0f2c-4c16-dc66-e49a67bd7d81"
      },
      "execution_count": 55,
      "outputs": [
        {
          "output_type": "stream",
          "name": "stdout",
          "text": [
            "technointernationalnewtown12\n"
          ]
        }
      ]
    },
    {
      "cell_type": "code",
      "source": [
        "# write a python program to reverse the items of a list using a function (dont use library function)\n",
        "\n",
        "def rev(a):\n",
        "  x=len(a)\n",
        "  b=[]\n",
        "  while(x>0):\n",
        "    b.append(a[x-1])\n",
        "    x=x-1\n",
        "  return b\n",
        "\n",
        "j=[]\n",
        "for x in range (1,11):\n",
        "  f=input()\n",
        "  j.append(f)\n",
        "\n",
        "print(rev(j))\n",
        "\n",
        "\n"
      ],
      "metadata": {
        "id": "oqm5j6UfDHNR",
        "colab": {
          "base_uri": "https://localhost:8080/"
        },
        "outputId": "4aafa804-afa7-416f-bc44-46987e159cdb"
      },
      "execution_count": 54,
      "outputs": [
        {
          "output_type": "stream",
          "name": "stdout",
          "text": [
            "1\n",
            "2\n",
            "3\n",
            "4\n",
            "5\n",
            "6\n",
            "7\n",
            "8\n",
            "9\n",
            "0\n",
            "['0', '9', '8', '7', '6', '5', '4', '3', '2', '1']\n"
          ]
        }
      ]
    },
    {
      "cell_type": "code",
      "source": [
        "# write a python function that will return the even items from an original list\n",
        "\n",
        "def eve(y):\n"
      ],
      "metadata": {
        "id": "j8zTz5K_DHQp"
      },
      "execution_count": null,
      "outputs": []
    },
    {
      "cell_type": "code",
      "source": [
        "#write a python program that will convert set of strings into list.for eg (\"a\",\"p\",\"p\",\"l\",\"e\") will be converted into (\"apple\")\n",
        "y=[\"techno\", \"international\", \"newtown\", 1 ,2 ]\n",
        "\n",
        "def l2s(l):\n",
        "  strg =\"\"\n",
        "  for  element in l:\n",
        "    element=str(element)\n",
        "    strg= strg + element\n",
        "  return strg\n",
        "\n",
        "print(l2s(y))\n"
      ],
      "metadata": {
        "id": "ITNPSK7fEEGr",
        "colab": {
          "base_uri": "https://localhost:8080/"
        },
        "outputId": "21fc20b3-576d-4ffa-d140-37964af1a6c0"
      },
      "execution_count": 50,
      "outputs": [
        {
          "output_type": "stream",
          "name": "stdout",
          "text": [
            "technointernationalnewtown12\n"
          ]
        }
      ]
    },
    {
      "cell_type": "code",
      "source": [
        "# slicing\n",
        "a=[1,2,3,4,5]\n",
        "\n",
        "print(a[:1])\n",
        "print(a[2:])\n",
        "print(a[:-1])\n",
        "print(a[:-2])"
      ],
      "metadata": {
        "id": "_2aKPMPJIU5D",
        "colab": {
          "base_uri": "https://localhost:8080/"
        },
        "outputId": "e811f5c0-21bf-41e0-f2ac-7d566c4b80c8"
      },
      "execution_count": 49,
      "outputs": [
        {
          "output_type": "stream",
          "name": "stdout",
          "text": [
            "[1]\n",
            "[3, 4, 5]\n",
            "[1, 2, 3, 4]\n",
            "[1, 2, 3]\n"
          ]
        }
      ]
    },
    {
      "cell_type": "code",
      "source": [
        "# set implemented with {}\n",
        "\n",
        "st={1,2,3,4}\n",
        "print(type(st))\n",
        "\n",
        "st.add(5)\n",
        "print(st)\n",
        "\n",
        "new_st=frozenset(st)\n",
        "print(new_st)\n",
        "#new_st.add(6)\n",
        "\n",
        "st={1,2,7,6,9}\n",
        "print(st)\n",
        "\n",
        "st.remove(2)\n",
        "print(st)\n",
        "\n",
        "emp= set()\n",
        "emp.add(89)\n",
        "print(type(emp))\n",
        "print(emp)\n",
        "\n",
        "emt= {}\n",
        "print(type(emt))\n",
        "print(emt)\n"
      ],
      "metadata": {
        "id": "stEN20PXNr83",
        "colab": {
          "base_uri": "https://localhost:8080/"
        },
        "outputId": "bc52f212-fc4c-4778-c98f-bb16de069d19"
      },
      "execution_count": 48,
      "outputs": [
        {
          "output_type": "stream",
          "name": "stdout",
          "text": [
            "<class 'set'>\n",
            "{1, 2, 3, 4, 5}\n",
            "frozenset({1, 2, 3, 4, 5})\n",
            "{1, 2, 6, 7, 9}\n",
            "{1, 6, 7, 9}\n",
            "<class 'set'>\n",
            "{89}\n",
            "<class 'dict'>\n",
            "{}\n"
          ]
        }
      ]
    },
    {
      "cell_type": "code",
      "source": [
        "a=[8,1,6,9]\n",
        "a.remove(6)\n",
        "print(a)\n",
        "\n",
        "del a[1]\n",
        "print(a)\n",
        "\n",
        "a.pop(1)\n",
        "print(a)\n"
      ],
      "metadata": {
        "id": "mdZf3HRdOjY5",
        "colab": {
          "base_uri": "https://localhost:8080/"
        },
        "outputId": "aaee4787-da36-4108-fd18-a9f8b8cec9c3"
      },
      "execution_count": 47,
      "outputs": [
        {
          "output_type": "stream",
          "name": "stdout",
          "text": [
            "[8, 1, 9]\n",
            "[8, 9]\n",
            "[8]\n"
          ]
        }
      ]
    },
    {
      "cell_type": "code",
      "source": [
        "st={1.0,\"hello\", (1,2,3)}\n",
        "print(st)\n",
        "for j in st:\n",
        "  print(type(j))\n"
      ],
      "metadata": {
        "id": "ZtagksQUQ-Lq",
        "colab": {
          "base_uri": "https://localhost:8080/"
        },
        "outputId": "016b6cf5-bc0d-442a-eea7-7313cd25e659"
      },
      "execution_count": 45,
      "outputs": [
        {
          "output_type": "stream",
          "name": "stdout",
          "text": [
            "{1.0, (1, 2, 3), 'hello'}\n",
            "<class 'float'>\n",
            "<class 'tuple'>\n",
            "<class 'str'>\n"
          ]
        }
      ]
    },
    {
      "cell_type": "code",
      "source": [
        "swl=set([1,2,3])\n",
        "print(type(swl))\n",
        "print(swl)"
      ],
      "metadata": {
        "id": "toibGhpyS0NM",
        "colab": {
          "base_uri": "https://localhost:8080/"
        },
        "outputId": "99f5cf7f-6a11-41b9-a468-674772d311a5"
      },
      "execution_count": 46,
      "outputs": [
        {
          "output_type": "stream",
          "name": "stdout",
          "text": [
            "<class 'set'>\n",
            "{1, 2, 3}\n"
          ]
        }
      ]
    },
    {
      "cell_type": "code",
      "source": [
        "st= set()\n",
        "st.update([3,4])\n",
        "st.update((1,8))\n",
        "st.update(\"sikander\")\n",
        "print(st)\n",
        "\n",
        "st.discard (8)\n",
        "print(st)\n",
        "\n",
        "st1=set(\"apple\")\n",
        "print(st1)\n",
        "print('a'in st1)\n",
        "print('p' not in st1)"
      ],
      "metadata": {
        "id": "cWsLzHXFTrpe",
        "colab": {
          "base_uri": "https://localhost:8080/"
        },
        "outputId": "45db8df6-16b6-484a-b04d-445659a44724"
      },
      "execution_count": 44,
      "outputs": [
        {
          "output_type": "stream",
          "name": "stdout",
          "text": [
            "{1, 3, 4, 'k', 'e', 8, 'd', 'a', 's', 'n', 'i', 'r'}\n",
            "{1, 3, 4, 'k', 'e', 'd', 'a', 's', 'n', 'i', 'r'}\n",
            "{'e', 'l', 'a', 'p'}\n",
            "True\n",
            "False\n"
          ]
        }
      ]
    },
    {
      "cell_type": "code",
      "source": [
        "#read a string and find the unique number of charecters in it\n",
        "\n",
        "data = \"techno international newtown\"\n",
        "unique = set(data)\n",
        "unique.discard(' ')\n",
        "print(\"number of unique elements =\",len(unique))\n",
        "print(\"list of unique elements =\",unique)\n",
        "\n",
        "data= list(data)\n",
        "for ele in unique:\n",
        "  data.remove(ele)\n",
        "y=set (data)\n",
        "y.discard(' ')\n",
        "print(\"repeated chgarecters \", y)"
      ],
      "metadata": {
        "id": "pOi8SC1BVwCd",
        "colab": {
          "base_uri": "https://localhost:8080/"
        },
        "outputId": "006af794-d0c1-4bce-e45c-4f0f72597c0e"
      },
      "execution_count": 43,
      "outputs": [
        {
          "output_type": "stream",
          "name": "stdout",
          "text": [
            "number of unique elements = 11\n",
            "list of unique elements = {'w', 'e', 'c', 'a', 't', 'h', 'n', 'o', 'i', 'l', 'r'}\n",
            "repeated chgarecters  {'w', 'e', 'a', 't', 'n', 'i', 'o'}\n"
          ]
        }
      ]
    },
    {
      "cell_type": "code",
      "source": [
        "a = {1,2,3,4,5,6,7,8,9,0}\n",
        "b = {1,3,4,7,9}\n",
        "\n",
        "print(\"union  = \",a|b)\n",
        "print(\"intersection  = \",a&b)\n",
        "print(\"difference  = \",a-b)\n",
        "print(\"difference  = \",b-a)\n",
        "print(\"symmetric differnce  = \",a^b)\n",
        "\n",
        "c=a.union(b)\n",
        "print(\"union  = \",c)\n",
        "d=a.intersection(b)\n",
        "print(\"intersection  = \",d)\n",
        "e=a.difference(b)\n",
        "print(\"difference  = \",e)\n",
        "f=a.symmetric_difference(b)\n",
        "print(\"symmetric differnce  = \",f)\n",
        "\n",
        "a.update(b)\n",
        "print(a)\n",
        "a.intersection_update(b)\n",
        "print(a)\n",
        "a.symmetric_difference_update(b)\n",
        "print(a)\n",
        "a.difference_update(b)\n",
        "print(a)"
      ],
      "metadata": {
        "id": "JazWNr_GbZPc",
        "colab": {
          "base_uri": "https://localhost:8080/"
        },
        "outputId": "871c15fd-2e40-4a74-afc8-2cc051b231d7"
      },
      "execution_count": 42,
      "outputs": [
        {
          "output_type": "stream",
          "name": "stdout",
          "text": [
            "union  =  {0, 1, 2, 3, 4, 5, 6, 7, 8, 9}\n",
            "intersection  =  {1, 3, 4, 7, 9}\n",
            "difference  =  {0, 2, 5, 6, 8}\n",
            "difference  =  set()\n",
            "symmetric differnce  =  {0, 2, 5, 6, 8}\n",
            "union  =  {0, 1, 2, 3, 4, 5, 6, 7, 8, 9}\n",
            "intersection  =  {1, 3, 4, 7, 9}\n",
            "difference  =  {0, 2, 5, 6, 8}\n",
            "symmetric differnce  =  {0, 2, 5, 6, 8}\n",
            "{0, 1, 2, 3, 4, 5, 6, 7, 8, 9}\n",
            "{1, 3, 4, 7, 9}\n",
            "set()\n",
            "set()\n"
          ]
        }
      ]
    },
    {
      "cell_type": "code",
      "source": [
        "# write a program to find minimum and maximum element from the set\n",
        "\n",
        "a = {1,2,-3,4,5,6,-7,-8,-9,0}\n",
        "print(max(a))\n",
        "print(min(a))"
      ],
      "metadata": {
        "id": "f8AmvQJSeB48",
        "colab": {
          "base_uri": "https://localhost:8080/"
        },
        "outputId": "2fb61fe8-6918-4786-aefa-8ceeed1e7b1c"
      },
      "execution_count": 41,
      "outputs": [
        {
          "output_type": "stream",
          "name": "stdout",
          "text": [
            "6\n",
            "-9\n"
          ]
        }
      ]
    },
    {
      "cell_type": "code",
      "source": [
        "# write a program to remove all elements from a set\n",
        "\n",
        "a = {1,2,3,4,5,6,7,8,9,0}\n",
        "a.clear()\n",
        "print(a)"
      ],
      "metadata": {
        "id": "jCPIrcRoI-mh",
        "colab": {
          "base_uri": "https://localhost:8080/"
        },
        "outputId": "afc1d885-e202-4a58-d4a3-41347f898142"
      },
      "execution_count": 40,
      "outputs": [
        {
          "output_type": "stream",
          "name": "stdout",
          "text": [
            "set()\n"
          ]
        }
      ]
    },
    {
      "cell_type": "code",
      "source": [
        "# write a program to remove all elements from a set\n",
        "\n",
        "a = {1,2,3,4,5,6,7,8,9,0}\n",
        "b=list(a)\n",
        "c=len(a)\n",
        "while(c>0):\n",
        "  del b[c-1]\n",
        "  c-=1\n",
        "d=set(b)\n",
        "print(d)"
      ],
      "metadata": {
        "id": "nPuJPWDWOCjw",
        "colab": {
          "base_uri": "https://localhost:8080/"
        },
        "outputId": "93eedbd6-b7b3-4308-8375-3eb774229530"
      },
      "execution_count": 39,
      "outputs": [
        {
          "output_type": "stream",
          "name": "stdout",
          "text": [
            "set()\n"
          ]
        }
      ]
    },
    {
      "cell_type": "code",
      "source": [
        "# write a prgram to find if a set is a subset of another\n",
        "\n",
        "a = {1,2,3,4,5,6,7,8,9,0}\n",
        "b = {3,5,8,9}\n",
        "print(b.issubset(a))\n",
        "print(a.issuperset(b))"
      ],
      "metadata": {
        "id": "Apy0URveOjMl",
        "colab": {
          "base_uri": "https://localhost:8080/"
        },
        "outputId": "a488d922-41b4-4462-b077-9c3b898dab3b"
      },
      "execution_count": 38,
      "outputs": [
        {
          "output_type": "stream",
          "name": "stdout",
          "text": [
            "True\n",
            "True\n"
          ]
        }
      ]
    },
    {
      "cell_type": "code",
      "source": [
        "a={} # this is a dictionary # or a=dict() also works\n",
        "print(type(a))\n",
        "\n",
        "a={'car': 'audi' , 'color': 'red' }\n",
        "a['year']= 1992\n",
        "print(a)\n",
        "\n",
        "a = {'car': 'audi', 'color': 'red', 'year': 1992, 'year': 2020}\n",
        "print(a)\n",
        "\n",
        "print(a.keys())\n",
        "print(a.values())"
      ],
      "metadata": {
        "id": "x1qT_1AIOze1",
        "colab": {
          "base_uri": "https://localhost:8080/"
        },
        "outputId": "f4d66fc9-cd4b-4d40-d750-9d6f07255eb0"
      },
      "execution_count": 37,
      "outputs": [
        {
          "output_type": "stream",
          "name": "stdout",
          "text": [
            "<class 'dict'>\n",
            "{'car': 'audi', 'color': 'red', 'year': 1992}\n",
            "{'car': 'audi', 'color': 'red', 'year': 2020}\n",
            "dict_keys(['car', 'color', 'year'])\n",
            "dict_values(['audi', 'red', 2020])\n"
          ]
        }
      ]
    },
    {
      "cell_type": "code",
      "source": [
        "d=dict()\n",
        "d['age'] = 73\n",
        "d['course'] = 164\n",
        "print(d)\n",
        "d['age']= 75\n",
        "print(d)"
      ],
      "metadata": {
        "id": "3rwnGox1P5TV",
        "colab": {
          "base_uri": "https://localhost:8080/"
        },
        "outputId": "4dc82804-d1b4-4b6b-a1d8-435602db5d62"
      },
      "execution_count": 36,
      "outputs": [
        {
          "output_type": "stream",
          "name": "stdout",
          "text": [
            "{'age': 73, 'course': 164}\n",
            "{'age': 75, 'course': 164}\n"
          ]
        }
      ]
    },
    {
      "cell_type": "code",
      "source": [
        "a = dict()\n",
        "a = {'car': 'audi', 'color': 'red', 'year': 1992, 'year': 2020}\n",
        "if \"audi\" in a:\n",
        "  print(\"yes\")\n",
        "else:\n",
        "  print(\"no\")\n",
        "\n",
        "if \"car\" in a:\n",
        "  print(\"yes\")\n",
        "else:\n",
        "  print(\"no\")"
      ],
      "metadata": {
        "id": "0eTw61wmSyib",
        "colab": {
          "base_uri": "https://localhost:8080/"
        },
        "outputId": "6922964c-8ab2-415e-dee1-fe6465e79323"
      },
      "execution_count": 35,
      "outputs": [
        {
          "output_type": "stream",
          "name": "stdout",
          "text": [
            "no\n",
            "yes\n"
          ]
        }
      ]
    },
    {
      "cell_type": "code",
      "source": [
        "a = {'car': 'audi', 'color': 'red', 'year': 1992, 'year': 2020}\n",
        "a.update({\"color\" : \"blue\"})\n",
        "print(a)\n",
        "\n",
        "a.pop(\"color\")\n",
        "print(a)\n",
        "\n",
        "a.popitem()\n",
        "print(a)\n",
        "\n",
        "# remove doesnot work\n",
        "\n",
        "del a[\"car\"]\n",
        "print(a)"
      ],
      "metadata": {
        "id": "UTvrEfTuT3qe",
        "colab": {
          "base_uri": "https://localhost:8080/"
        },
        "outputId": "91a99380-5f02-43a0-983b-52dedd6b20d1"
      },
      "execution_count": 34,
      "outputs": [
        {
          "output_type": "stream",
          "name": "stdout",
          "text": [
            "{'car': 'audi', 'color': 'blue', 'year': 2020}\n",
            "{'car': 'audi', 'year': 2020}\n",
            "{'car': 'audi'}\n",
            "{}\n"
          ]
        }
      ]
    },
    {
      "cell_type": "code",
      "source": [
        "a = {'car': 'audi', 'color': 'red', 'year': 1992, 'year': 2020}\n",
        "print(a.pop(\"car\"))\n",
        "print(a)"
      ],
      "metadata": {
        "colab": {
          "base_uri": "https://localhost:8080/"
        },
        "id": "L72vYl71UyvV",
        "outputId": "234a7bb7-8c03-416a-e928-46327c183df6"
      },
      "execution_count": 33,
      "outputs": [
        {
          "output_type": "stream",
          "name": "stdout",
          "text": [
            "audi\n",
            "{'color': 'red', 'year': 2020}\n"
          ]
        }
      ]
    },
    {
      "cell_type": "code",
      "source": [
        "counts = dict()\n",
        "names = ['csev', 'cwen' , 'csev' , 'zqian' , 'cwen']\n",
        "for name in names:\n",
        "  if name not in counts:\n",
        "    counts[name] = 1\n",
        "  else:\n",
        "    counts[name] = counts[name] + 1\n",
        "\n",
        "print(counts)\n",
        "\n",
        "counts.get(\"csev\")"
      ],
      "metadata": {
        "id": "cr4qoKCZXDkp",
        "colab": {
          "base_uri": "https://localhost:8080/"
        },
        "outputId": "23c7bda2-07b0-41a9-f2d7-a24999f960c6"
      },
      "execution_count": 32,
      "outputs": [
        {
          "output_type": "stream",
          "name": "stdout",
          "text": [
            "{'csev': 2, 'cwen': 2, 'zqian': 1}\n"
          ]
        },
        {
          "output_type": "execute_result",
          "data": {
            "text/plain": [
              "2"
            ]
          },
          "metadata": {},
          "execution_count": 32
        }
      ]
    },
    {
      "cell_type": "code",
      "source": [
        "a = {'car': 'audi', 'color': 'red', 'year': 1992, 'year': 2020}\n",
        "b = {'car': 'bmw', 'color': 'blue', 'year': 1994, 'year': 2020}\n",
        "c={'car1' : a , 'car2' : b }\n",
        "print(c)\n",
        "\n",
        "# dictionary doesnot take duplicate values for same key so takes last value"
      ],
      "metadata": {
        "id": "z03vIHL1YcfF",
        "colab": {
          "base_uri": "https://localhost:8080/"
        },
        "outputId": "4b2ea401-537f-43c4-e14e-e286af03e3bc"
      },
      "execution_count": 31,
      "outputs": [
        {
          "output_type": "stream",
          "name": "stdout",
          "text": [
            "{'car1': {'car': 'audi', 'color': 'red', 'year': 2020}, 'car2': {'car': 'bmw', 'color': 'blue', 'year': 2020}}\n"
          ]
        }
      ]
    },
    {
      "cell_type": "code",
      "source": [
        "#  create a dictionary where keys are first 5 natural numbers and values are square value of keys.\n",
        "# expected output : {1:1, 2:4, 3:9, 4:16, 5:25}\n",
        "\n",
        "a=dict()\n",
        "c=1\n",
        "while (c<6):\n",
        "  a[c]= c*c\n",
        "  c+=1\n",
        "print(a)"
      ],
      "metadata": {
        "colab": {
          "base_uri": "https://localhost:8080/"
        },
        "id": "GklCJb0RcApA",
        "outputId": "9143df03-e2c7-48e1-978d-e576b1b5bb88"
      },
      "execution_count": null,
      "outputs": [
        {
          "output_type": "stream",
          "name": "stdout",
          "text": [
            "{1: 1, 2: 4, 3: 9, 4: 16, 5: 25}\n"
          ]
        }
      ]
    },
    {
      "cell_type": "code",
      "source": [
        "# concatenate two individual dictionaries into a sigle dict\n",
        "# a = { 1:1, 2:4, 3:9 } and b = { 4:16 , 5:25 }\n",
        "# expected output : {1:1, 2:4, 3:9, 4:16, 5:25}\n",
        "\n",
        "a = { 1:1, 2:4, 3:9 }\n",
        "b = { 4:16 , 5:25 }\n",
        "\n",
        "c={}\n",
        "for i in (a,b):\n",
        "  c.update(i)\n",
        "print(c)"
      ],
      "metadata": {
        "colab": {
          "base_uri": "https://localhost:8080/"
        },
        "id": "WypmreS3cwf9",
        "outputId": "7a1bfc79-c135-4566-ecf4-2a6bcbbd94bb"
      },
      "execution_count": null,
      "outputs": [
        {
          "output_type": "stream",
          "name": "stdout",
          "text": [
            "{1: 1, 2: 4, 3: 9, 4: 16, 5: 25}\n"
          ]
        }
      ]
    },
    {
      "cell_type": "code",
      "source": [
        "# builtin func for set\n",
        "#len max min sorted any del type add\n",
        "\n",
        "x=set()\n",
        "print(type(x))\n",
        "x.add(34)\n",
        "x.add(35)\n",
        "x.add(36)\n",
        "print(x)\n",
        "#x.remove(9) # key error\n",
        "x.discard(9) # no error and continues\n",
        "print(x)\n",
        "\n",
        "# in set no list can be inserted but all others aare possible"
      ],
      "metadata": {
        "id": "8q2uAk-EfyWl",
        "colab": {
          "base_uri": "https://localhost:8080/"
        },
        "outputId": "30fafe14-7406-4cdc-d55d-5aff5e7a55c3"
      },
      "execution_count": 30,
      "outputs": [
        {
          "output_type": "stream",
          "name": "stdout",
          "text": [
            "<class 'set'>\n",
            "{34, 35, 36}\n",
            "{34, 35, 36}\n"
          ]
        }
      ]
    },
    {
      "cell_type": "code",
      "source": [
        "# list comprehension\n",
        "\n",
        "x=[1,2,3,4,5,6,7,8,9,0]\n",
        "y=[j for j in x if j%2==0 ]\n",
        "print(y)\n"
      ],
      "metadata": {
        "id": "Bsy768DhJqkT",
        "colab": {
          "base_uri": "https://localhost:8080/"
        },
        "outputId": "b2777d70-c155-47b1-c06a-6ea6f3138b4e"
      },
      "execution_count": 29,
      "outputs": [
        {
          "output_type": "stream",
          "name": "stdout",
          "text": [
            "[2, 4, 6, 8, 0]\n"
          ]
        }
      ]
    },
    {
      "cell_type": "code",
      "source": [
        "c=dict()\n",
        "x=[2,4,2,3,6,7,4,3,2]\n",
        "for j in x :\n",
        "  if j not in c:\n",
        "    c[j]=1\n",
        "  else :\n",
        "    c[j]=c[j]+1\n",
        "print(c)\n",
        "\n",
        "\n",
        "y=list(set(x))\n",
        "print(y)\n",
        "for j in y:\n",
        "  if j in x:\n",
        "    print(j,'', x.count(j))\n"
      ],
      "metadata": {
        "id": "9VKu-LU6OqOg",
        "colab": {
          "base_uri": "https://localhost:8080/"
        },
        "outputId": "522b71e6-1c12-4c5d-d54b-b9fd40de3876"
      },
      "execution_count": 28,
      "outputs": [
        {
          "output_type": "stream",
          "name": "stdout",
          "text": [
            "{2: 3, 4: 2, 3: 2, 6: 1, 7: 1}\n",
            "[2, 3, 4, 6, 7]\n",
            "2  3\n",
            "3  2\n",
            "4  2\n",
            "6  1\n",
            "7  1\n"
          ]
        }
      ]
    },
    {
      "cell_type": "code",
      "source": [
        "x=[2,4,2,3,6,7,4,3,2,9,1,3,5]\n",
        "# even list and odd tupple\n"
      ],
      "metadata": {
        "id": "8bGVh66VRDcj"
      },
      "execution_count": null,
      "outputs": []
    },
    {
      "cell_type": "code",
      "source": [
        "# print(x.get(y)) == print(x[y])\n",
        "x={'sachin' : 1,'sourav' : 2,'dhoni' : 3,'virat' : 4 }\n",
        "print(x.get(input(\"enter the key :\")))\n",
        "v=int(input())\n",
        "for i,j in x.items():\n",
        "  if v==j :\n",
        "    print(i)"
      ],
      "metadata": {
        "id": "fnyvobU4UXiN",
        "colab": {
          "base_uri": "https://localhost:8080/"
        },
        "outputId": "a7059df2-0ae4-4668-8d5a-e8a3ec2f8dd8"
      },
      "execution_count": 27,
      "outputs": [
        {
          "output_type": "stream",
          "name": "stdout",
          "text": [
            "enter the key :sachin\n",
            "1\n",
            "3\n",
            "dhoni\n"
          ]
        }
      ]
    },
    {
      "cell_type": "code",
      "source": [
        "x={'s1': {1:'a',2:'b',3: 'c'} , 's2': {1:'d',2:'e',3: 'f'} ,'s3': {1:'x',2:'y',3: 'z'} }\n",
        "y=['ram' , 'sam']\n",
        "\n",
        "q=0\n",
        "while 1:\n",
        "  flag =0\n",
        "  p=(input(\"enter the passenger name \"))\n",
        "  for i,j in x.items():\n",
        "    for k,l in j.items():\n",
        "      if p == l:\n",
        "        print(\"ticket booked in \",i,' ',k ,\"for :\",y[q])\n",
        "        j[k]=y[q]\n",
        "        y.remove(y[q])\n",
        "        flag=1\n",
        "        break\n",
        "  if flag == 0:\n",
        "    print(\"passenger not found\")\n",
        "  print(\"current waiting list :\",y)\n",
        "  print(\"current booked seat status list :\",x)\n",
        "  if(len(y)==0):\n",
        "    break"
      ],
      "metadata": {
        "id": "_7VNcvkaVeW2",
        "colab": {
          "base_uri": "https://localhost:8080/"
        },
        "outputId": "0f55d7ae-accf-4646-d6d5-2b42405df080"
      },
      "execution_count": 25,
      "outputs": [
        {
          "output_type": "stream",
          "name": "stdout",
          "text": [
            "enter the passenger name f\n",
            "ticket booked in  s2   3 for : ram\n",
            "current waiting list : ['sam']\n",
            "current booked seat status list : {'s1': {1: 'a', 2: 'b', 3: 'c'}, 's2': {1: 'd', 2: 'e', 3: 'ram'}, 's3': {1: 'x', 2: 'y', 3: 'z'}}\n",
            "enter the passenger name u\n",
            "passenger not found\n",
            "current waiting list : ['sam']\n",
            "current booked seat status list : {'s1': {1: 'a', 2: 'b', 3: 'c'}, 's2': {1: 'd', 2: 'e', 3: 'ram'}, 's3': {1: 'x', 2: 'y', 3: 'z'}}\n",
            "enter the passenger name y\n",
            "ticket booked in  s3   2 for : sam\n",
            "current waiting list : []\n",
            "current booked seat status list : {'s1': {1: 'a', 2: 'b', 3: 'c'}, 's2': {1: 'd', 2: 'e', 3: 'ram'}, 's3': {1: 'x', 2: 'sam', 3: 'z'}}\n"
          ]
        }
      ]
    },
    {
      "cell_type": "code",
      "source": [
        "x=[1,2,3]\n",
        "y=['a','b','c']\n",
        "z=dict(zip(x,y))\n",
        "print(z)\n",
        "z=dict.fromkeys(x)\n",
        "print(z)\n",
        "f=0\n",
        "for i,j in z.items():\n",
        "  z[i]= y[f]\n",
        "  f=f+1\n",
        "print(z)"
      ],
      "metadata": {
        "colab": {
          "base_uri": "https://localhost:8080/"
        },
        "id": "y9Aducfjd83s",
        "outputId": "720325ad-9ac3-4017-fded-0483b631442e"
      },
      "execution_count": 20,
      "outputs": [
        {
          "output_type": "stream",
          "name": "stdout",
          "text": [
            "{1: 'a', 2: 'b', 3: 'c'}\n",
            "{1: None, 2: None, 3: None}\n",
            "{1: 'a', 2: 'b', 3: 'c'}\n"
          ]
        }
      ]
    },
    {
      "cell_type": "code",
      "source": [
        "# string and string slicing\n",
        "'''\n",
        "a  b  c  d  e  f\n",
        "0  1  2  3  4  5\n",
        "-6 -5 -4 -3 -2 -1'''\n",
        "x= \"abcdef\"\n",
        "print(x[2:5])\n",
        "print(x[2:])\n",
        "print(x[:1])\n",
        "print(x[::2])\n",
        "print(x[-5:-2])\n",
        "print(x[::-1])"
      ],
      "metadata": {
        "id": "wCZfBLG6gxhu",
        "colab": {
          "base_uri": "https://localhost:8080/"
        },
        "outputId": "c9b77748-13fa-4449-894c-d1d4096b64b6"
      },
      "execution_count": 19,
      "outputs": [
        {
          "output_type": "stream",
          "name": "stdout",
          "text": [
            "cde\n",
            "cdef\n",
            "a\n",
            "ace\n",
            "bcd\n",
            "fedcba\n"
          ]
        }
      ]
    },
    {
      "cell_type": "code",
      "source": [
        "x= \"ram is a bad boy\"\n",
        "y=x.split()\n",
        "print(y)\n",
        "print('number of words',len(y))"
      ],
      "metadata": {
        "id": "OL5zyjkqLvTV"
      },
      "execution_count": null,
      "outputs": []
    },
    {
      "cell_type": "code",
      "source": [
        "x= \"  techno  \"\n",
        "print(len(x))\n",
        "print(len(x.lstrip()))\n",
        "print(len(x.rstrip()))\n",
        "print(len(x.strip()))"
      ],
      "metadata": {
        "id": "lE5679voNhTU",
        "colab": {
          "base_uri": "https://localhost:8080/"
        },
        "outputId": "0001df6f-bb09-429c-9629-727659020542"
      },
      "execution_count": 18,
      "outputs": [
        {
          "output_type": "stream",
          "name": "stdout",
          "text": [
            "10\n",
            "8\n",
            "8\n",
            "6\n"
          ]
        }
      ]
    },
    {
      "cell_type": "code",
      "source": [
        "x='2'\n",
        "print(type(x))\n",
        "print(x.isdigit())\n",
        "print(x.isalpha())\n",
        "y='a'\n",
        "print(y.upper())"
      ],
      "metadata": {
        "id": "2zNVp7R-ONVa",
        "colab": {
          "base_uri": "https://localhost:8080/"
        },
        "outputId": "a60d5fdb-73b3-4b3b-8e23-39e7cac28ed0"
      },
      "execution_count": 17,
      "outputs": [
        {
          "output_type": "stream",
          "name": "stdout",
          "text": [
            "<class 'str'>\n",
            "True\n",
            "False\n",
            "A\n"
          ]
        }
      ]
    },
    {
      "cell_type": "code",
      "source": [
        "# palindrome checking\n",
        "x=input()\n",
        "y=(x[::-1])\n",
        "print(x)\n",
        "print(y)\n",
        "if x == y:\n",
        "  print('palindrome')\n",
        "else:\n",
        "  print('not plaindrome')"
      ],
      "metadata": {
        "id": "QY2yEbtNOuSY",
        "colab": {
          "base_uri": "https://localhost:8080/"
        },
        "outputId": "7e5c72d8-0aee-41cb-c40c-dcf801ffef4a"
      },
      "execution_count": 16,
      "outputs": [
        {
          "output_type": "stream",
          "name": "stdout",
          "text": [
            "MADAM\n",
            "MADAM\n",
            "MADAM\n",
            "palindrome\n"
          ]
        }
      ]
    },
    {
      "cell_type": "code",
      "source": [
        "x=input()\n",
        "count =0\n",
        "l=''\n",
        "z= x.split()\n",
        "for c in z :\n",
        "  y=(c[::-1])\n",
        "  if c == y:\n",
        "    count +=1\n",
        "    l=l+','+c\n",
        "l=l.strip(\",\")\n",
        "print('number of palindrome words is ',count)\n",
        "print('palinderome words are =',l)"
      ],
      "metadata": {
        "id": "CWDM-laiPjkj",
        "colab": {
          "base_uri": "https://localhost:8080/"
        },
        "outputId": "f8177a69-c207-4bbb-a991-b820cf7f16c0"
      },
      "execution_count": 14,
      "outputs": [
        {
          "output_type": "stream",
          "name": "stdout",
          "text": [
            "MADAM ARORA IS A TEACHER OF MALAYALAM\n",
            "number of palindrome words is  4\n",
            "palinderome words are = MADAM,ARORA,A,MALAYALAM\n"
          ]
        }
      ]
    },
    {
      "cell_type": "code",
      "source": [
        "x= \"ram is a bad boy\"\n",
        "y=x.split()\n",
        "for j in y:\n",
        "  print(j,'  ',len(j))"
      ],
      "metadata": {
        "id": "VNUrQu_cRrDY",
        "colab": {
          "base_uri": "https://localhost:8080/"
        },
        "outputId": "8ccd00e9-a9bb-41fd-bb37-86bde9fc6775"
      },
      "execution_count": 13,
      "outputs": [
        {
          "output_type": "stream",
          "name": "stdout",
          "text": [
            "ram    3\n",
            "is    2\n",
            "a    1\n",
            "bad    3\n",
            "boy    3\n"
          ]
        }
      ]
    },
    {
      "cell_type": "code",
      "source": [
        "x= input()\n",
        "l=list()\n",
        "y=x.split()\n",
        "c=0\n",
        "z=len(y)\n",
        "for j in y:\n",
        "  if c!=z-1:\n",
        "    j=str(j)\n",
        "    j=j[:1]\n",
        "    l.append(j.upper())\n",
        "    c+=1\n",
        "print(*l,y[z-1])\n"
      ],
      "metadata": {
        "colab": {
          "base_uri": "https://localhost:8080/"
        },
        "id": "XRtWNutdWyWC",
        "outputId": "0367752a-90e8-4f9e-c929-dc23df180d88"
      },
      "execution_count": null,
      "outputs": [
        {
          "output_type": "stream",
          "name": "stdout",
          "text": [
            "amal kumar dey\n",
            "A K dey\n"
          ]
        }
      ]
    },
    {
      "cell_type": "code",
      "source": [
        "def tint(x,y):\n",
        "  return(x*y, x+y, x/y) # only one return statement available and multiple values may be returned\n",
        "c=tint(10,20) # 3 answer return in tuple\n",
        "print(type (c))\n",
        "print(c)\n",
        "# keyword argument\n",
        "def tint1(key , key1 ,key2):\n",
        "  print(\"roll  \",key)\n",
        "  print(\"name  \",key1)\n",
        "  print(\"address  \",key2)\n",
        "tint1(10,'alapan','kolkata' )\n",
        "# default argument\n",
        "def tint2(key , key1 ,key2= '****' ):\n",
        "  print(\"roll  \",key)\n",
        "  print(\"name  \",key1)\n",
        "  print(\"address  \",key2)\n",
        "tint2(10,'alapan')\n",
        "# variable length argument\n",
        "def tint3( *n ):\n",
        "  return (n)\n",
        "print(tint3(1,2,3,4))\n",
        "print(tint3(1,2,3,4,5,6,7,8,9))"
      ],
      "metadata": {
        "colab": {
          "base_uri": "https://localhost:8080/"
        },
        "id": "dm_sH7UeX2kW",
        "outputId": "6444dc92-6f11-48a5-f34c-3ae3ab154f25"
      },
      "execution_count": null,
      "outputs": [
        {
          "output_type": "stream",
          "name": "stdout",
          "text": [
            "<class 'tuple'>\n",
            "(200, 30, 0.5)\n",
            "roll   10\n",
            "name   alapan\n",
            "address   kolkata\n",
            "roll   10\n",
            "name   alapan\n",
            "address   ****\n",
            "(1, 2, 3, 4)\n",
            "(1, 2, 3, 4, 5, 6, 7, 8, 9)\n"
          ]
        }
      ]
    },
    {
      "cell_type": "code",
      "source": [
        "# lamda function is an unnamed function\n",
        "x=10\n",
        "y=20\n",
        "z=lambda x,y : x+y\n",
        "print(z(x,y))\n"
      ],
      "metadata": {
        "id": "MvgKRjVDeJEd",
        "colab": {
          "base_uri": "https://localhost:8080/"
        },
        "outputId": "bca1adaa-2260-4c4b-9931-79d349668b36"
      },
      "execution_count": 9,
      "outputs": [
        {
          "output_type": "stream",
          "name": "stdout",
          "text": [
            "30\n"
          ]
        }
      ]
    },
    {
      "cell_type": "code",
      "source": [
        "x= int(input())\n",
        "z= lambda x : \"even\" if x%2==0 else \"odd\"\n",
        "print(z(x))\n"
      ],
      "metadata": {
        "id": "pvSZMmDPhtSN",
        "colab": {
          "base_uri": "https://localhost:8080/"
        },
        "outputId": "b7a95fc9-e44e-475d-b7bb-87ba1644913c"
      },
      "execution_count": 10,
      "outputs": [
        {
          "output_type": "stream",
          "name": "stdout",
          "text": [
            "89\n",
            "odd\n"
          ]
        }
      ]
    },
    {
      "cell_type": "code",
      "source": [
        "#plaindrome word checking using lambda function\n",
        "x=input()\n",
        "y=(x[::-1])\n",
        "z=lambda x,y : \"palindrome\" if x == y else \"not palimndrome\"\n",
        "print(z(x,y))\n"
      ],
      "metadata": {
        "id": "Ful7me18iRQb",
        "colab": {
          "base_uri": "https://localhost:8080/"
        },
        "outputId": "3d32ec07-5914-4c0b-c33d-7ba9ab9a7e02"
      },
      "execution_count": 12,
      "outputs": [
        {
          "output_type": "stream",
          "name": "stdout",
          "text": [
            "78987\n",
            "palindrome\n"
          ]
        }
      ]
    },
    {
      "cell_type": "code",
      "source": [
        "#maximum among 3 numbers using lambda\n",
        "\n",
        "x=int(input())\n",
        "y=int(input())\n",
        "z=int(input())\n",
        "q= lambda x,y,z : \"x is greater\" if x>y and x>z else \"y is greater\" if y>z else \"z is greater\"\n",
        "print(q(x,y,z))\n",
        "w= lambda x,y,z : max (x,y,z)\n",
        "print(w(x,y,z))"
      ],
      "metadata": {
        "id": "H2Try4sDi0Yd",
        "colab": {
          "base_uri": "https://localhost:8080/"
        },
        "outputId": "515132f3-946e-4bb2-9240-abff4ed109f0"
      },
      "execution_count": 8,
      "outputs": [
        {
          "output_type": "stream",
          "name": "stdout",
          "text": [
            "7\n",
            "8\n",
            "5\n",
            "y is greater\n",
            "8\n"
          ]
        }
      ]
    },
    {
      "cell_type": "code",
      "source": [
        "# filter function\n",
        "x=[1,2,3,4,5,6,7,8,9]\n",
        "def tint(x):\n",
        "  if x%2==0:\n",
        "    return True\n",
        "  else :\n",
        "    return False\n",
        "z=list(filter(tint,x))\n",
        "print(z)"
      ],
      "metadata": {
        "id": "9ctcPUiBpJlY",
        "colab": {
          "base_uri": "https://localhost:8080/"
        },
        "outputId": "a01a60a2-8743-44cd-c1f1-8259bd1f9573"
      },
      "execution_count": 7,
      "outputs": [
        {
          "output_type": "stream",
          "name": "stdout",
          "text": [
            "[2, 4, 6, 8]\n"
          ]
        }
      ]
    },
    {
      "cell_type": "code",
      "source": [
        "x=[1,2,3,4,5,6,7,8,9] # extract a even function into list using lambda and and filter\n",
        "a= lambda z:[ j for j in x if j%2==0]\n",
        "z=list(filter(a,x))\n",
        "print(a(z))"
      ],
      "metadata": {
        "id": "IqNPRXOfqWqO"
      },
      "execution_count": null,
      "outputs": []
    },
    {
      "cell_type": "code",
      "source": [],
      "metadata": {
        "id": "y_eEXcj4tqON"
      },
      "execution_count": null,
      "outputs": []
    }
  ]
}